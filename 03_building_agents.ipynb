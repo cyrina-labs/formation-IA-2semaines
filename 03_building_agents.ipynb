{
 "cells": [
  {
   "cell_type": "markdown",
   "id": "49b4d9dc",
   "metadata": {},
   "source": [
    "## Mini-agent IA en Python"
   ]
  }
 ],
 "metadata": {},
 "nbformat": 4,
 "nbformat_minor": 5
}
