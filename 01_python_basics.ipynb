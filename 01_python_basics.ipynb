{
 "cells": [
  {
   "cell_type": "markdown",
   "id": "89572ee4",
   "metadata": {},
   "source": [
    "## Exercices de base Python"
   ]
  }
 ],
 "metadata": {},
 "nbformat": 4,
 "nbformat_minor": 5
}
